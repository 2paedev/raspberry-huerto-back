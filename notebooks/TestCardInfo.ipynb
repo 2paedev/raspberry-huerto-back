{
 "cells": [
  {
   "cell_type": "code",
   "execution_count": 20,
   "metadata": {},
   "outputs": [
    {
     "name": "stdout",
     "output_type": "stream",
     "text": [
      "<QuerySet [<CardInfo: CardInfo object (32)>, <CardInfo: CardInfo object (33)>]>\n"
     ]
    },
    {
     "data": {
      "text/plain": [
       "{'_state': <django.db.models.base.ModelState at 0x7fa7d83970b8>,\n",
       " 'id': 32,\n",
       " 'created': datetime.datetime(2018, 10, 26, 17, 34, 12, 644677, tzinfo=<UTC>),\n",
       " 'humidity_air': Decimal('1.10'),\n",
       " 'humidity_ground': Decimal('1.10'),\n",
       " 'temperature_air': Decimal('1.10')}"
      ]
     },
     "execution_count": 20,
     "metadata": {},
     "output_type": "execute_result"
    }
   ],
   "source": [
    "from card_info.models import CardInfo\n",
    "from card_info.serializers import CardInfoSerializer\n",
    "from rest_framework.renderers import JSONRenderer\n",
    "from rest_framework.parsers import JSONParser\n",
    "\n",
    "CardInfo.objects.all().delete()\n",
    "\n",
    "card_info = CardInfo(humidity_air=1.1, humidity_ground=1.1, temperature_air=1.1)\n",
    "card_info.save()\n",
    "\n",
    "card_info = CardInfo(humidity_air=1.1, humidity_ground=1.1, temperature_air=1.1)\n",
    "card_info.save()\n",
    "serializer = CardInfoSerializer(card_info)\n",
    "serializer.data\n",
    "content = JSONRenderer().render(serializer.data)\n",
    "content\n",
    "\n",
    "cards = CardInfo.objects.all()\n",
    "print(cards)\n",
    "vars(cards[0])"
   ]
  },
  {
   "cell_type": "code",
   "execution_count": 19,
   "metadata": {},
   "outputs": [
    {
     "name": "stdout",
     "output_type": "stream",
     "text": [
      "CardInfoSerializer():\n",
      "    id = IntegerField(read_only=True)\n",
      "    humidity_air = DecimalField(decimal_places=2, max_digits=3, max_value=100.0, min_value=0.0, required='true')\n",
      "    humidity_ground = DecimalField(decimal_places=2, max_digits=3, max_value=100.0, min_value=0.0, required='true')\n",
      "    temperature_air = DecimalField(decimal_places=2, max_digits=3, max_value=100.0, min_value=0.0, required='true')\n"
     ]
    }
   ],
   "source": [
    "from card_info.serializers import CardInfoSerializer\n",
    "serializer = CardInfoSerializer()\n",
    "print(repr(serializer))"
   ]
  },
  {
   "cell_type": "code",
   "execution_count": null,
   "metadata": {},
   "outputs": [],
   "source": []
  }
 ],
 "metadata": {
  "kernelspec": {
   "display_name": "Django Shell-Plus",
   "language": "python",
   "name": "django_extensions"
  },
  "language_info": {
   "codemirror_mode": {
    "name": "ipython",
    "version": 3
   },
   "file_extension": ".py",
   "mimetype": "text/x-python",
   "name": "python",
   "nbconvert_exporter": "python",
   "pygments_lexer": "ipython3",
   "version": "3.6.6"
  }
 },
 "nbformat": 4,
 "nbformat_minor": 2
}
