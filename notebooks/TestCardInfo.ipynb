{
 "cells": [
  {
   "cell_type": "code",
   "execution_count": 2,
   "metadata": {},
   "outputs": [
    {
     "ename": "SyntaxError",
     "evalue": "invalid syntax (<ipython-input-2-3bc9dcb90c55>, line 1)",
     "output_type": "error",
     "traceback": [
      "\u001b[0;36m  File \u001b[0;32m\"<ipython-input-2-3bc9dcb90c55>\"\u001b[0;36m, line \u001b[0;32m1\u001b[0m\n\u001b[0;31m    from ../card_info.models import CardInfo\u001b[0m\n\u001b[0m           ^\u001b[0m\n\u001b[0;31mSyntaxError\u001b[0m\u001b[0;31m:\u001b[0m invalid syntax\n"
     ]
    }
   ],
   "source": [
    "from card_info.models import CardInfo\n",
    "from card_info.serializers import CardInfoSerializer\n",
    "from rest_framework.renderers import JSONRenderer\n",
    "from rest_framework.parsers import JSONParser\n",
    "\n",
    "CardInfo.objects.all().delete()\n",
    "\n",
    "card_info = CardInfo(humidity_air=1.1, humidity_ground=1.1, temperature_air=1.1)\n",
    "card_info.save()\n",
    "\n",
    "card_info = CardInfo(humidity_air=1.1, humidity_ground=1.1, temperature_air=1.1)\n",
    "card_info.save()\n",
    "serializer = CardInfoSerializer(card_info)\n",
    "serializer.data\n",
    "content = JSONRenderer().render(serializer.data)\n",
    "content\n",
    "\n",
    "cards = CardInfo.objects.all()\n",
    "print(cards)\n",
    "vars(cards[0])"
   ]
  },
  {
   "cell_type": "code",
   "execution_count": 19,
   "metadata": {},
   "outputs": [
    {
     "name": "stdout",
     "output_type": "stream",
     "text": [
      "CardInfoSerializer():\n",
      "    id = IntegerField(read_only=True)\n",
      "    humidity_air = DecimalField(decimal_places=2, max_digits=3, max_value=100.0, min_value=0.0, required='true')\n",
      "    humidity_ground = DecimalField(decimal_places=2, max_digits=3, max_value=100.0, min_value=0.0, required='true')\n",
      "    temperature_air = DecimalField(decimal_places=2, max_digits=3, max_value=100.0, min_value=0.0, required='true')\n"
     ]
    }
   ],
   "source": [
    "from card_info.serializers import CardInfoSerializer\n",
    "serializer = CardInfoSerializer()\n",
    "print(repr(serializer))"
   ]
  },
  {
   "cell_type": "code",
   "execution_count": null,
   "metadata": {},
   "outputs": [],
   "source": []
  }
 ],
 "metadata": {
  "kernelspec": {
   "display_name": "Django Shell-Plus",
   "language": "python",
   "name": "django_extensions"
  },
  "language_info": {
   "codemirror_mode": {
    "name": "ipython",
    "version": 3
   },
   "file_extension": ".py",
   "mimetype": "text/x-python",
   "name": "python",
   "nbconvert_exporter": "python",
   "pygments_lexer": "ipython3",
   "version": "3.6.6"
  }
 },
 "nbformat": 4,
 "nbformat_minor": 2
}
